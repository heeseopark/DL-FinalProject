{
 "cells": [
  {
   "cell_type": "code",
   "execution_count": 7,
   "metadata": {},
   "outputs": [],
   "source": [
    "import pandas as pd\n",
    "import torch\n",
    "import os\n",
    "from datetime import datetime as dt, timedelta\n",
    "from torch.utils.data import DataLoader\n",
    "\n",
    "\n",
    "class PriceDataset(torch.utils.data.Dataset):\n",
    "    def __init__(self, item, timespan, start_date_str, end_date_str, input_window_size, target_window_size):\n",
    "        self.directory = f'C:/Github/DL-FinalProject/csvfiles/{item}'\n",
    "        self.item = item\n",
    "        self.timespan = timespan\n",
    "        self.input_window_size = input_window_size\n",
    "        self.target_window_size = target_window_size\n",
    "        start_date = dt.strptime(start_date_str, '%Y-%m-%d').date()\n",
    "        end_date = dt.strptime(end_date_str, '%Y-%m-%d').date()\n",
    "        self.dates = [single_date.strftime(\"%Y-%m-%d\") for single_date in self.daterange(start_date, end_date)]\n",
    "        self.columns = [1, 4]  # Selecting open and close prices\n",
    "        self.filenames = self.get_filenames()\n",
    "\n",
    "    def daterange(self, start_date, end_date):\n",
    "        for n in range(int((end_date - start_date).days) + 1):\n",
    "            yield start_date + timedelta(n)\n",
    "\n",
    "    def __len__(self):\n",
    "        total_length = 0\n",
    "        for filename in self.filenames:\n",
    "            df = pd.read_csv(filename, usecols=self.columns, header=None)\n",
    "            total_length += len(df)\n",
    "        return max(0, total_length - self.input_window_size - self.target_window_size + 1)\n",
    "    \n",
    "    def get_filenames(self):\n",
    "        filenames = []\n",
    "        for date in self.dates:\n",
    "            filename = f\"{self.directory}/{self.item}-{self.timespan}-{date}.csv\"\n",
    "            if os.path.exists(filename):\n",
    "                filenames.append(filename)\n",
    "        return filenames\n",
    "\n",
    "    def __getitem__(self, idx):\n",
    "        start_idx = max(0, idx - self.input_window_size - self.target_window_size + 1)\n",
    "        end_idx = min(idx + 1, len(self.filenames))\n",
    "\n",
    "        tensors = []\n",
    "        for file_idx in range(start_idx, end_idx):\n",
    "            filename = self.filenames[file_idx]\n",
    "            df = pd.read_csv(filename, usecols=self.columns, header=None)\n",
    "            tensor = torch.tensor(df.values, dtype=torch.float)\n",
    "            tensors.append(tensor)\n",
    "\n",
    "        combined_tensor = torch.cat(tensors, dim=0)\n",
    "        if combined_tensor.shape[0] >= self.input_window_size + self.target_window_size:\n",
    "            window = combined_tensor[:self.input_window_size + self.target_window_size]\n",
    "            pct_change = ((window[-self.target_window_size:, 1] - window[:self.input_window_size, 0]) * 100 / window[:self.input_window_size, 0])\n",
    "            return pct_change\n",
    "        else:\n",
    "            return torch.tensor([])  # Return an empty tensor if there isn't enough data"
   ]
  },
  {
   "cell_type": "markdown",
   "metadata": {},
   "source": [
    "dataset v4는 sliding window가 백분율을 계산하는 것이 아니라 데이터셋 자체가 백분율을 계산할 수 있게 만듦. 그러나 실패\n",
    "\n",
    "그래서 완전히 v5으로 넘어가서 dataset을 갈아엎을 예정"
   ]
  },
  {
   "cell_type": "code",
   "execution_count": 8,
   "metadata": {},
   "outputs": [],
   "source": [
    "# Dataset parameters and Lstm hyperparameters\n",
    "window_size = 100 # lstm input size\n",
    "\n",
    "input_window_size = 100\n",
    "\n",
    "target_window_size = 10 # lstm output size\n",
    "\n",
    "hidden_size = 1000\n",
    "\n",
    "num_layers = 4\n",
    "\n",
    "dropout = 0.1"
   ]
  },
  {
   "cell_type": "code",
   "execution_count": 9,
   "metadata": {},
   "outputs": [],
   "source": [
    "train_dataset = PriceDataset('BTCUSDT', '1m', '2021-03-01', '2023-04-30', input_window_size=input_window_size, target_window_size=target_window_size)\n",
    "train_loader = DataLoader(train_dataset, batch_size=1, shuffle=True, drop_last=True)\n",
    "\n",
    "test_dataset = PriceDataset('ETHUSDT', '1m', '2021-03-01', '2023-04-30', input_window_size=input_window_size, target_window_size=target_window_size)\n",
    "test_loader = DataLoader(test_dataset, batch_size=1, shuffle=False, drop_last=True)"
   ]
  },
  {
   "cell_type": "code",
   "execution_count": 10,
   "metadata": {},
   "outputs": [
    {
     "name": "stdout",
     "output_type": "stream",
     "text": [
      "Total windows in train dataset: 1137937\n",
      "Total windows in test dataset: 1137937\n"
     ]
    }
   ],
   "source": [
    "def count_total_windows(dataset):\n",
    "    total_length = 0\n",
    "    for filename in dataset.filenames:\n",
    "        df = pd.read_csv(filename, usecols=dataset.columns, header=None)\n",
    "        total_length += len(df)\n",
    "\n",
    "    # Adjust for the fact that the last few entries in the dataset may not form a complete window\n",
    "    total_windows = max(0, total_length - input_window_size - target_window_size + 1)\n",
    "    return total_windows\n",
    "\n",
    "# Example usage\n",
    "total_train_windows = count_total_windows(train_dataset)\n",
    "total_test_windows = count_total_windows(test_dataset)\n",
    "\n",
    "print(f\"Total windows in train dataset: {total_train_windows}\")\n",
    "print(f\"Total windows in test dataset: {total_test_windows}\")\n"
   ]
  },
  {
   "cell_type": "code",
   "execution_count": 21,
   "metadata": {},
   "outputs": [
    {
     "ename": "RuntimeError",
     "evalue": "The size of tensor a (10) must match the size of tensor b (100) at non-singleton dimension 0",
     "output_type": "error",
     "traceback": [
      "\u001b[1;31m---------------------------------------------------------------------------\u001b[0m",
      "\u001b[1;31mRuntimeError\u001b[0m                              Traceback (most recent call last)",
      "\u001b[1;32mc:\\Github\\DL-FinalProject\\dataset v4.ipynb Cell 6\u001b[0m line \u001b[0;36m1\n\u001b[1;32m----> <a href='vscode-notebook-cell:/c%3A/Github/DL-FinalProject/dataset%20v4.ipynb#W5sZmlsZQ%3D%3D?line=0'>1</a>\u001b[0m \u001b[39mprint\u001b[39m(train_dataset\u001b[39m.\u001b[39;49m\u001b[39m__getitem__\u001b[39;49m(idx\u001b[39m=\u001b[39;49m\u001b[39m1\u001b[39;49m))\n",
      "\u001b[1;32mc:\\Github\\DL-FinalProject\\dataset v4.ipynb Cell 6\u001b[0m line \u001b[0;36m5\n\u001b[0;32m     <a href='vscode-notebook-cell:/c%3A/Github/DL-FinalProject/dataset%20v4.ipynb#W5sZmlsZQ%3D%3D?line=51'>52</a>\u001b[0m \u001b[39mif\u001b[39;00m combined_tensor\u001b[39m.\u001b[39mshape[\u001b[39m0\u001b[39m] \u001b[39m>\u001b[39m\u001b[39m=\u001b[39m \u001b[39mself\u001b[39m\u001b[39m.\u001b[39minput_window_size \u001b[39m+\u001b[39m \u001b[39mself\u001b[39m\u001b[39m.\u001b[39mtarget_window_size:\n\u001b[0;32m     <a href='vscode-notebook-cell:/c%3A/Github/DL-FinalProject/dataset%20v4.ipynb#W5sZmlsZQ%3D%3D?line=52'>53</a>\u001b[0m     window \u001b[39m=\u001b[39m combined_tensor[:\u001b[39mself\u001b[39m\u001b[39m.\u001b[39minput_window_size \u001b[39m+\u001b[39m \u001b[39mself\u001b[39m\u001b[39m.\u001b[39mtarget_window_size]\n\u001b[1;32m---> <a href='vscode-notebook-cell:/c%3A/Github/DL-FinalProject/dataset%20v4.ipynb#W5sZmlsZQ%3D%3D?line=53'>54</a>\u001b[0m     pct_change \u001b[39m=\u001b[39m ((window[\u001b[39m-\u001b[39;49m\u001b[39mself\u001b[39;49m\u001b[39m.\u001b[39;49mtarget_window_size:, \u001b[39m1\u001b[39;49m] \u001b[39m-\u001b[39;49m window[:\u001b[39mself\u001b[39;49m\u001b[39m.\u001b[39;49minput_window_size, \u001b[39m0\u001b[39;49m]) \u001b[39m*\u001b[39m \u001b[39m100\u001b[39m \u001b[39m/\u001b[39m window[:\u001b[39mself\u001b[39m\u001b[39m.\u001b[39minput_window_size, \u001b[39m0\u001b[39m])\n\u001b[0;32m     <a href='vscode-notebook-cell:/c%3A/Github/DL-FinalProject/dataset%20v4.ipynb#W5sZmlsZQ%3D%3D?line=54'>55</a>\u001b[0m     \u001b[39mreturn\u001b[39;00m pct_change\n\u001b[0;32m     <a href='vscode-notebook-cell:/c%3A/Github/DL-FinalProject/dataset%20v4.ipynb#W5sZmlsZQ%3D%3D?line=55'>56</a>\u001b[0m \u001b[39melse\u001b[39;00m:\n",
      "\u001b[1;31mRuntimeError\u001b[0m: The size of tensor a (10) must match the size of tensor b (100) at non-singleton dimension 0"
     ]
    }
   ],
   "source": [
    "print(train_dataset.__getitem__(idx=1))"
   ]
  },
  {
   "cell_type": "code",
   "execution_count": 12,
   "metadata": {},
   "outputs": [
    {
     "ename": "RuntimeError",
     "evalue": "The size of tensor a (10) must match the size of tensor b (100) at non-singleton dimension 0",
     "output_type": "error",
     "traceback": [
      "\u001b[1;31m---------------------------------------------------------------------------\u001b[0m",
      "\u001b[1;31mRuntimeError\u001b[0m                              Traceback (most recent call last)",
      "\u001b[1;32mc:\\Github\\DL-FinalProject\\dataset v4.ipynb Cell 5\u001b[0m line \u001b[0;36m5\n\u001b[0;32m      <a href='vscode-notebook-cell:/c%3A/Github/DL-FinalProject/dataset%20v4.ipynb#W1sZmlsZQ%3D%3D?line=0'>1</a>\u001b[0m \u001b[39m# Assuming PriceDataset is defined and instantiated\u001b[39;00m\n\u001b[0;32m      <a href='vscode-notebook-cell:/c%3A/Github/DL-FinalProject/dataset%20v4.ipynb#W1sZmlsZQ%3D%3D?line=1'>2</a>\u001b[0m \u001b[39m# Example: price_dataset = PriceDataset('BTCUSDT', '1m', '2021-03-01', '2023-04-30')\u001b[39;00m\n\u001b[0;32m      <a href='vscode-notebook-cell:/c%3A/Github/DL-FinalProject/dataset%20v4.ipynb#W1sZmlsZQ%3D%3D?line=3'>4</a>\u001b[0m \u001b[39mfor\u001b[39;00m i \u001b[39min\u001b[39;00m \u001b[39mrange\u001b[39m(\u001b[39mlen\u001b[39m(train_dataset)):\n\u001b[1;32m----> <a href='vscode-notebook-cell:/c%3A/Github/DL-FinalProject/dataset%20v4.ipynb#W1sZmlsZQ%3D%3D?line=4'>5</a>\u001b[0m     data \u001b[39m=\u001b[39m train_dataset[i]\n\u001b[0;32m      <a href='vscode-notebook-cell:/c%3A/Github/DL-FinalProject/dataset%20v4.ipynb#W1sZmlsZQ%3D%3D?line=5'>6</a>\u001b[0m     \u001b[39mprint\u001b[39m(\u001b[39mf\u001b[39m\u001b[39m\"\u001b[39m\u001b[39mData at index \u001b[39m\u001b[39m{\u001b[39;00mi\u001b[39m}\u001b[39;00m\u001b[39m:\u001b[39m\u001b[39m\\n\u001b[39;00m\u001b[39m\"\u001b[39m, data)\n\u001b[0;32m      <a href='vscode-notebook-cell:/c%3A/Github/DL-FinalProject/dataset%20v4.ipynb#W1sZmlsZQ%3D%3D?line=6'>7</a>\u001b[0m     \u001b[39mprint\u001b[39m(\u001b[39mf\u001b[39m\u001b[39m\"\u001b[39m\u001b[39mLength of index \u001b[39m\u001b[39m{\u001b[39;00mi\u001b[39m}\u001b[39;00m\u001b[39m:\u001b[39m\u001b[39m\\n\u001b[39;00m\u001b[39m\"\u001b[39m, \u001b[39mlen\u001b[39m(data))\n",
      "\u001b[1;32mc:\\Github\\DL-FinalProject\\dataset v4.ipynb Cell 5\u001b[0m line \u001b[0;36m5\n\u001b[0;32m     <a href='vscode-notebook-cell:/c%3A/Github/DL-FinalProject/dataset%20v4.ipynb#W1sZmlsZQ%3D%3D?line=51'>52</a>\u001b[0m \u001b[39mif\u001b[39;00m combined_tensor\u001b[39m.\u001b[39mshape[\u001b[39m0\u001b[39m] \u001b[39m>\u001b[39m\u001b[39m=\u001b[39m \u001b[39mself\u001b[39m\u001b[39m.\u001b[39minput_window_size \u001b[39m+\u001b[39m \u001b[39mself\u001b[39m\u001b[39m.\u001b[39mtarget_window_size:\n\u001b[0;32m     <a href='vscode-notebook-cell:/c%3A/Github/DL-FinalProject/dataset%20v4.ipynb#W1sZmlsZQ%3D%3D?line=52'>53</a>\u001b[0m     window \u001b[39m=\u001b[39m combined_tensor[:\u001b[39mself\u001b[39m\u001b[39m.\u001b[39minput_window_size \u001b[39m+\u001b[39m \u001b[39mself\u001b[39m\u001b[39m.\u001b[39mtarget_window_size]\n\u001b[1;32m---> <a href='vscode-notebook-cell:/c%3A/Github/DL-FinalProject/dataset%20v4.ipynb#W1sZmlsZQ%3D%3D?line=53'>54</a>\u001b[0m     pct_change \u001b[39m=\u001b[39m ((window[\u001b[39m-\u001b[39;49m\u001b[39mself\u001b[39;49m\u001b[39m.\u001b[39;49mtarget_window_size:, \u001b[39m1\u001b[39;49m] \u001b[39m-\u001b[39;49m window[:\u001b[39mself\u001b[39;49m\u001b[39m.\u001b[39;49minput_window_size, \u001b[39m0\u001b[39;49m]) \u001b[39m*\u001b[39m \u001b[39m100\u001b[39m \u001b[39m/\u001b[39m window[:\u001b[39mself\u001b[39m\u001b[39m.\u001b[39minput_window_size, \u001b[39m0\u001b[39m])\n\u001b[0;32m     <a href='vscode-notebook-cell:/c%3A/Github/DL-FinalProject/dataset%20v4.ipynb#W1sZmlsZQ%3D%3D?line=54'>55</a>\u001b[0m     \u001b[39mreturn\u001b[39;00m pct_change\n\u001b[0;32m     <a href='vscode-notebook-cell:/c%3A/Github/DL-FinalProject/dataset%20v4.ipynb#W1sZmlsZQ%3D%3D?line=55'>56</a>\u001b[0m \u001b[39melse\u001b[39;00m:\n",
      "\u001b[1;31mRuntimeError\u001b[0m: The size of tensor a (10) must match the size of tensor b (100) at non-singleton dimension 0"
     ]
    }
   ],
   "source": [
    "# Assuming PriceDataset is defined and instantiated\n",
    "# Example: price_dataset = PriceDataset('BTCUSDT', '1m', '2021-03-01', '2023-04-30')\n",
    "\n",
    "for i in range(len(train_dataset)):\n",
    "    data = train_dataset[i]\n",
    "    print(f\"Data at index {i}:\\n\", data)\n",
    "    print(f\"Length of index {i}:\\n\", len(data))\n",
    "\n",
    "    # Optional: Break the loop after a few iterations to avoid too much output\n",
    "    if i >= 10:  # for example, only print the first 10 entries\n",
    "        break\n"
   ]
  }
 ],
 "metadata": {
  "kernelspec": {
   "display_name": "Python 3",
   "language": "python",
   "name": "python3"
  },
  "language_info": {
   "codemirror_mode": {
    "name": "ipython",
    "version": 3
   },
   "file_extension": ".py",
   "mimetype": "text/x-python",
   "name": "python",
   "nbconvert_exporter": "python",
   "pygments_lexer": "ipython3",
   "version": "3.11.2"
  }
 },
 "nbformat": 4,
 "nbformat_minor": 2
}
